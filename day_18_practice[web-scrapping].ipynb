{
 "cells": [
  {
   "cell_type": "markdown",
   "id": "fe50ea09-54f7-4bd8-aa00-2318fa59bf6a",
   "metadata": {},
   "source": [
    "# Web Scrapping Demo - by Anjal Bhattarai"
   ]
  },
  {
   "cell_type": "markdown",
   "id": "16c55571-b3f4-43b3-96ee-6979074bbb2d",
   "metadata": {},
   "source": [
    "### Import all required modules\n"
   ]
  },
  {
   "cell_type": "code",
   "execution_count": 129,
   "id": "f6efd0d2-426d-472a-8a6e-24767e4691b0",
   "metadata": {},
   "outputs": [],
   "source": [
    "import pandas as pd\n",
    "import requests\n",
    "from bs4 import BeautifulSoup"
   ]
  },
  {
   "cell_type": "markdown",
   "id": "8e5170ac-f922-4edd-94d6-02d6432bc5b8",
   "metadata": {},
   "source": [
    "### Get the code of page source"
   ]
  },
  {
   "cell_type": "code",
   "execution_count": 137,
   "id": "0343c6b7-1186-4fd8-aecc-67e638ae6a48",
   "metadata": {},
   "outputs": [],
   "source": [
    "url = 'https://quotes.toscrape.com/'\n",
    "headers = {  #Using browser details to make it look like human-user...\n",
    "    \"User-Agent\": \"Mozilla/5.0 (Windows NT 10.0; Win64; x64)\"\n",
    "}\n",
    "response = requests.get(url, headers=headers).text"
   ]
  },
  {
   "cell_type": "markdown",
   "id": "a134dadd-564a-43ae-8b19-1c373f8d355b",
   "metadata": {},
   "source": [
    "### Create Object of BeautifulSoup to use it's method"
   ]
  },
  {
   "cell_type": "code",
   "execution_count": 141,
   "id": "25b10d28-f559-41dc-a2d5-4b883558f3da",
   "metadata": {},
   "outputs": [],
   "source": [
    "soup = BeautifulSoup(response, 'lxml')"
   ]
  },
  {
   "cell_type": "code",
   "execution_count": 143,
   "id": "21a053e7-8c5a-48a3-9bb4-168c168b41ea",
   "metadata": {},
   "outputs": [],
   "source": [
    "quote_container = soup.find_all('div', class_='quote')\n"
   ]
  },
  {
   "cell_type": "markdown",
   "id": "e343b982-956f-4fca-a5b8-1e1aefb6afca",
   "metadata": {},
   "source": [
    "### Make a dataframe to store all the available quotes, author_name and their tags"
   ]
  },
  {
   "cell_type": "code",
   "execution_count": 157,
   "id": "b45534e0-9014-4c95-9c72-f7ebde15e12a",
   "metadata": {},
   "outputs": [],
   "source": [
    "quotes = []\n",
    "authors = []\n",
    "tags=[]\n",
    "\n",
    "for i in quote_container:\n",
    "    quote_text = i.find('span', class_ = 'text').text.strip()\n",
    "    quotes.append(quote_text)\n",
    "    \n",
    "    author_container = i.find_all('span')[1]\n",
    "    quote_author = author_container.find('small', class_ = 'author').text.strip()\n",
    "    authors.append(quote_author)\n",
    "\n",
    "    tag_container = i.find_all('a', class_='tag')  # all <a> tags with class \"tag\"\n",
    "    quote_tags = [tag.text.strip() for tag in tag_container]\n",
    "    tags.append(quote_tags) \n",
    "\n",
    "data = {'Quotes':quotes, 'Authors': authors, 'Tags': tags}\n",
    "df = pd.DataFrame(data)\n",
    "\n",
    "\n",
    "\n"
   ]
  },
  {
   "cell_type": "markdown",
   "id": "6da5d37b-aaa4-40fa-a0a1-73419de695e4",
   "metadata": {},
   "source": [
    "### Check the obtained data"
   ]
  },
  {
   "cell_type": "code",
   "execution_count": 158,
   "id": "52fecf9d-66c4-4477-9d97-f03835ca48bb",
   "metadata": {},
   "outputs": [
    {
     "data": {
      "text/html": [
       "<div>\n",
       "<style scoped>\n",
       "    .dataframe tbody tr th:only-of-type {\n",
       "        vertical-align: middle;\n",
       "    }\n",
       "\n",
       "    .dataframe tbody tr th {\n",
       "        vertical-align: top;\n",
       "    }\n",
       "\n",
       "    .dataframe thead th {\n",
       "        text-align: right;\n",
       "    }\n",
       "</style>\n",
       "<table border=\"1\" class=\"dataframe\">\n",
       "  <thead>\n",
       "    <tr style=\"text-align: right;\">\n",
       "      <th></th>\n",
       "      <th>Quotes</th>\n",
       "      <th>Authors</th>\n",
       "      <th>Tags</th>\n",
       "    </tr>\n",
       "  </thead>\n",
       "  <tbody>\n",
       "    <tr>\n",
       "      <th>0</th>\n",
       "      <td>“The world as we have created it is a process ...</td>\n",
       "      <td>Albert Einstein</td>\n",
       "      <td>[change, deep-thoughts, thinking, world]</td>\n",
       "    </tr>\n",
       "    <tr>\n",
       "      <th>1</th>\n",
       "      <td>“It is our choices, Harry, that show what we t...</td>\n",
       "      <td>J.K. Rowling</td>\n",
       "      <td>[abilities, choices]</td>\n",
       "    </tr>\n",
       "    <tr>\n",
       "      <th>2</th>\n",
       "      <td>“There are only two ways to live your life. On...</td>\n",
       "      <td>Albert Einstein</td>\n",
       "      <td>[inspirational, life, live, miracle, miracles]</td>\n",
       "    </tr>\n",
       "    <tr>\n",
       "      <th>3</th>\n",
       "      <td>“The person, be it gentleman or lady, who has ...</td>\n",
       "      <td>Jane Austen</td>\n",
       "      <td>[aliteracy, books, classic, humor]</td>\n",
       "    </tr>\n",
       "    <tr>\n",
       "      <th>4</th>\n",
       "      <td>“Imperfection is beauty, madness is genius and...</td>\n",
       "      <td>Marilyn Monroe</td>\n",
       "      <td>[be-yourself, inspirational]</td>\n",
       "    </tr>\n",
       "    <tr>\n",
       "      <th>5</th>\n",
       "      <td>“Try not to become a man of success. Rather be...</td>\n",
       "      <td>Albert Einstein</td>\n",
       "      <td>[adulthood, success, value]</td>\n",
       "    </tr>\n",
       "    <tr>\n",
       "      <th>6</th>\n",
       "      <td>“It is better to be hated for what you are tha...</td>\n",
       "      <td>André Gide</td>\n",
       "      <td>[life, love]</td>\n",
       "    </tr>\n",
       "    <tr>\n",
       "      <th>7</th>\n",
       "      <td>“I have not failed. I've just found 10,000 way...</td>\n",
       "      <td>Thomas A. Edison</td>\n",
       "      <td>[edison, failure, inspirational, paraphrased]</td>\n",
       "    </tr>\n",
       "    <tr>\n",
       "      <th>8</th>\n",
       "      <td>“A woman is like a tea bag; you never know how...</td>\n",
       "      <td>Eleanor Roosevelt</td>\n",
       "      <td>[misattributed-eleanor-roosevelt]</td>\n",
       "    </tr>\n",
       "    <tr>\n",
       "      <th>9</th>\n",
       "      <td>“A day without sunshine is like, you know, nig...</td>\n",
       "      <td>Steve Martin</td>\n",
       "      <td>[humor, obvious, simile]</td>\n",
       "    </tr>\n",
       "  </tbody>\n",
       "</table>\n",
       "</div>"
      ],
      "text/plain": [
       "                                              Quotes            Authors  \\\n",
       "0  “The world as we have created it is a process ...    Albert Einstein   \n",
       "1  “It is our choices, Harry, that show what we t...       J.K. Rowling   \n",
       "2  “There are only two ways to live your life. On...    Albert Einstein   \n",
       "3  “The person, be it gentleman or lady, who has ...        Jane Austen   \n",
       "4  “Imperfection is beauty, madness is genius and...     Marilyn Monroe   \n",
       "5  “Try not to become a man of success. Rather be...    Albert Einstein   \n",
       "6  “It is better to be hated for what you are tha...         André Gide   \n",
       "7  “I have not failed. I've just found 10,000 way...   Thomas A. Edison   \n",
       "8  “A woman is like a tea bag; you never know how...  Eleanor Roosevelt   \n",
       "9  “A day without sunshine is like, you know, nig...       Steve Martin   \n",
       "\n",
       "                                             Tags  \n",
       "0        [change, deep-thoughts, thinking, world]  \n",
       "1                            [abilities, choices]  \n",
       "2  [inspirational, life, live, miracle, miracles]  \n",
       "3              [aliteracy, books, classic, humor]  \n",
       "4                    [be-yourself, inspirational]  \n",
       "5                     [adulthood, success, value]  \n",
       "6                                    [life, love]  \n",
       "7   [edison, failure, inspirational, paraphrased]  \n",
       "8               [misattributed-eleanor-roosevelt]  \n",
       "9                        [humor, obvious, simile]  "
      ]
     },
     "execution_count": 158,
     "metadata": {},
     "output_type": "execute_result"
    }
   ],
   "source": [
    "df\n"
   ]
  },
  {
   "cell_type": "markdown",
   "id": "08020933-f3ac-465c-a7b2-d075a45854b5",
   "metadata": {},
   "source": [
    "### Export to a CSV file"
   ]
  },
  {
   "cell_type": "code",
   "execution_count": 160,
   "id": "c8ed9e8b-cc3e-4b7d-8808-1d909459696f",
   "metadata": {},
   "outputs": [],
   "source": [
    "df.to_csv('Quotes_collection.csv')"
   ]
  }
 ],
 "metadata": {
  "kernelspec": {
   "display_name": "Python [conda env:base] *",
   "language": "python",
   "name": "conda-base-py"
  },
  "language_info": {
   "codemirror_mode": {
    "name": "ipython",
    "version": 3
   },
   "file_extension": ".py",
   "mimetype": "text/x-python",
   "name": "python",
   "nbconvert_exporter": "python",
   "pygments_lexer": "ipython3",
   "version": "3.12.7"
  }
 },
 "nbformat": 4,
 "nbformat_minor": 5
}
